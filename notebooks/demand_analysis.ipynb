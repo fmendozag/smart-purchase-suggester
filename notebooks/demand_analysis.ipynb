{
 "cells": [
  {
   "cell_type": "code",
   "execution_count": 5,
   "id": "8ce81d84",
   "metadata": {},
   "outputs": [],
   "source": [
    "import sys\n",
    "import os\n",
    "sys.path.append(os.path.abspath(os.path.join(\"..\")))\n",
    "import pandas as pd\n",
    "import ipywidgets as widgets\n",
    "from IPython.display import display\n",
    "from src.data_loader import load_sales, load_purchases, load_products\n",
    "from src.demand_forecast import calculate_forecast\n",
    "from src.stock_manager import calculate_min_stock\n",
    "from src.purchase_suggester import suggest_purchases\n",
    "from src.supplier_selector import select_suppliers\n"
   ]
  },
  {
   "cell_type": "code",
   "execution_count": 2,
   "id": "cae4e512",
   "metadata": {},
   "outputs": [],
   "source": [
    "sales = load_sales('../data/sales.csv')\n",
    "stock = load_products('../data/products.csv')\n",
    "purchase = load_purchases('../data/compras.csv')"
   ]
  },
  {
   "cell_type": "code",
   "execution_count": 8,
   "id": "658a5933",
   "metadata": {},
   "outputs": [
    {
     "name": "stdout",
     "output_type": "stream",
     "text": [
      "      min_stock\n",
      "0      6.071429\n",
      "1      2.363636\n",
      "2      2.794118\n",
      "3      2.666667\n",
      "4      3.505618\n",
      "...         ...\n",
      "2300   5.666667\n",
      "2301   6.400000\n",
      "2302   5.333333\n",
      "2303   4.500000\n",
      "2304   3.000000\n",
      "\n",
      "[2305 rows x 1 columns]\n"
     ]
    }
   ],
   "source": [
    "#stock['min_stock'] = \n",
    "stock_min = calculate_min_stock(sales,2)\n",
    "print(stock_min[['min_stock']])"
   ]
  }
 ],
 "metadata": {
  "kernelspec": {
   "display_name": "env",
   "language": "python",
   "name": "python3"
  },
  "language_info": {
   "codemirror_mode": {
    "name": "ipython",
    "version": 3
   },
   "file_extension": ".py",
   "mimetype": "text/x-python",
   "name": "python",
   "nbconvert_exporter": "python",
   "pygments_lexer": "ipython3",
   "version": "3.11.9"
  }
 },
 "nbformat": 4,
 "nbformat_minor": 5
}
