{
 "cells": [
  {
   "cell_type": "code",
   "execution_count": 1,
   "id": "8ce81d84",
   "metadata": {},
   "outputs": [],
   "source": [
    "import sys\n",
    "import os\n",
    "sys.path.append(os.path.abspath(os.path.join(\"..\")))\n"
   ]
  },
  {
   "cell_type": "code",
   "execution_count": 2,
   "id": "de9328c5",
   "metadata": {},
   "outputs": [],
   "source": [
    "import pandas as pd\n",
    "from src.demand_forecast import calculate_moving_average\n",
    "from src.data_loader import load_sales, load_purchases, load_products"
   ]
  },
  {
   "cell_type": "code",
   "execution_count": 3,
   "id": "cae4e512",
   "metadata": {},
   "outputs": [
    {
     "name": "stdout",
     "output_type": "stream",
     "text": [
      "      product_id  forecast\n",
      "0     0000004494  1.142857\n",
      "1     0000004524  1.142857\n",
      "2     0000004525  1.428571\n",
      "3     0000004526  1.285714\n",
      "4     0000004532  1.714286\n",
      "...          ...       ...\n",
      "2300  0000015765       NaN\n",
      "2301  0000015766       NaN\n",
      "2302  0000015767       NaN\n",
      "2303  0000015768       NaN\n",
      "2304  0000015771       NaN\n",
      "\n",
      "[2305 rows x 2 columns]\n"
     ]
    }
   ],
   "source": [
    "sales = load_sales('../data/sales.csv')\n",
    "forecast_7d = calculate_moving_average(sales, window=7)\n",
    "print(forecast_7d)"
   ]
  },
  {
   "cell_type": "code",
   "execution_count": 4,
   "id": "658a5933",
   "metadata": {},
   "outputs": [
    {
     "name": "stdout",
     "output_type": "stream",
     "text": [
      "   sale_date  product_id  quantity  total_amount\n",
      "0 2025-02-03  0000015463       1.0          2.88\n",
      "1 2025-07-08  0000013712       1.0          0.51\n",
      "2 2025-02-06  0000015124       1.0          0.50\n",
      "3 2025-02-13  0000014269       2.0          3.40\n",
      "4 2025-01-10  0000014102       2.0          2.90\n"
     ]
    }
   ],
   "source": [
    "print(sales.head(5))"
   ]
  }
 ],
 "metadata": {
  "kernelspec": {
   "display_name": "env",
   "language": "python",
   "name": "python3"
  },
  "language_info": {
   "codemirror_mode": {
    "name": "ipython",
    "version": 3
   },
   "file_extension": ".py",
   "mimetype": "text/x-python",
   "name": "python",
   "nbconvert_exporter": "python",
   "pygments_lexer": "ipython3",
   "version": "3.11.7"
  }
 },
 "nbformat": 4,
 "nbformat_minor": 5
}
