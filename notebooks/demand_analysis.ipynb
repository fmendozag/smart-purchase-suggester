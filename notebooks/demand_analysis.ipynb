{
 "cells": [
  {
   "cell_type": "code",
   "execution_count": 1,
   "id": "8ce81d84",
   "metadata": {},
   "outputs": [],
   "source": [
    "import sys\n",
    "import os\n",
    "sys.path.append(os.path.abspath(os.path.join(\"..\")))\n",
    "import pandas as pd\n",
    "import ipywidgets as widgets\n",
    "from IPython.display import display\n",
    "from src.data_loader import load_sales, load_purchases, load_products\n",
    "from src.demand_forecast import calculate_forecast\n",
    "from src.stock_manager import calculate_min_stock\n",
    "from src.purchase_suggester import generate_purchase_suggestion\n",
    "from src.supplier_selector import select_suppliers\n"
   ]
  },
  {
   "cell_type": "code",
   "execution_count": null,
   "id": "cae4e512",
   "metadata": {},
   "outputs": [
    {
     "data": {
      "application/vnd.jupyter.widget-view+json": {
       "model_id": "b7f0596fb03c40c08c70f6cea83f85c4",
       "version_major": 2,
       "version_minor": 0
      },
      "text/plain": [
       "Dropdown(description='Cobertura (días):', options=(7, 15, 21, 30), style=DescriptionStyle(description_width='i…"
      ]
     },
     "metadata": {},
     "output_type": "display_data"
    },
    {
     "data": {
      "application/vnd.jupyter.widget-view+json": {
       "model_id": "9698765a4096429698bf63f0b6a8b05b",
       "version_major": 2,
       "version_minor": 0
      },
      "text/plain": [
       "Dropdown(description='Método forecast:', options=('mean', 'rolling', 'weighted', 'trend'), style=DescriptionSt…"
      ]
     },
     "metadata": {},
     "output_type": "display_data"
    },
    {
     "data": {
      "application/vnd.jupyter.widget-view+json": {
       "model_id": "d4bee046c497403b978ebe3aee777a09",
       "version_major": 2,
       "version_minor": 0
      },
      "text/plain": [
       "Button(button_style='success', description='Generar Sugerido', style=ButtonStyle())"
      ]
     },
     "metadata": {},
     "output_type": "display_data"
    },
    {
     "data": {
      "application/vnd.jupyter.widget-view+json": {
       "model_id": "5dbe9af3521141aaaa61f32f1d4678e6",
       "version_major": 2,
       "version_minor": 0
      },
      "text/plain": [
       "Output()"
      ]
     },
     "metadata": {},
     "output_type": "display_data"
    }
   ],
   "source": [
    "# === Opciones disponibles ===\n",
    "coverage_days_options = [7, 15, 21, 30]\n",
    "forecast_methods = [\"mean\", \"rolling\", \"weighted\", \"trend\"]\n",
    "\n",
    "# === Widgets ===\n",
    "coverage_dropdown = widgets.Dropdown(\n",
    "    options=coverage_days_options,\n",
    "    value=7,\n",
    "    description=\"Cobertura (días):\",\n",
    "    style={'description_width': 'initial'}\n",
    ")\n",
    "\n",
    "method_dropdown = widgets.Dropdown(\n",
    "    options=forecast_methods,\n",
    "    value=\"mean\",\n",
    "    description=\"Método forecast:\",\n",
    "    style={'description_width': 'initial'}\n",
    ")\n",
    "\n",
    "run_button = widgets.Button(\n",
    "    description=\"Generar Sugerido\",\n",
    "    button_style=\"success\"\n",
    ")\n",
    "\n",
    "output = widgets.Output()\n",
    "\n",
    "# === Función a ejecutar ===\n",
    "def run_forecast(b):\n",
    "    with output:\n",
    "        output.clear_output()\n",
    "        try:\n",
    "            coverage_days = coverage_dropdown.value\n",
    "            method = method_dropdown.value\n",
    "\n",
    "            print(f\"⚡ Ejecutando forecast con {coverage_days} días y método '{method}'...\\n\")\n",
    "\n",
    "            # === Cargar datos ===\n",
    "            sales = load_sales(\"../data/sales.csv\")\n",
    "            products = load_products(\"../data/products.csv\")      # incluye stock y datos producto\n",
    "            purchases = load_purchases(\"../data/compras.csv\")   # historial de compras\n",
    "\n",
    "            # === Forecast (ventas diarias) ===\n",
    "            forecast = calculate_forecast(\n",
    "                sales,\n",
    "                days=60,   # usa últimos 60 días para suavizar outliers\n",
    "                method=method,\n",
    "                window=7\n",
    "            )\n",
    "\n",
    "            # === Generar sugerido ===\n",
    "            suggestion = generate_purchase_suggestion(\n",
    "                sales_df=sales,\n",
    "                forecast_df=forecast,\n",
    "                stock_df=products,      # productos contiene current_stock\n",
    "                products_df=products,   # productos también tiene code y name\n",
    "                purchases_df=purchases,\n",
    "                coverage_days=coverage_days,\n",
    "                safety_days=3           # stock mínimo para 2–3 días de seguridad\n",
    "            )\n",
    "\n",
    "            if suggestion.empty:\n",
    "                print(\"⚠️ No hay datos para mostrar (revisa tus CSV o filtros).\")\n",
    "            else:\n",
    "                display(suggestion.head(20))\n",
    "\n",
    "        except Exception as e:\n",
    "            print(\"❌ Error en la ejecución:\", e)\n",
    "\n",
    "# Conectar botón a función\n",
    "run_button.on_click(run_forecast)\n",
    "\n",
    "\n",
    "\n",
    "# Mostrar widgets\n",
    "display(coverage_dropdown, method_dropdown, run_button, output)"
   ]
  },
  {
   "cell_type": "code",
   "execution_count": null,
   "id": "73d143b4",
   "metadata": {},
   "outputs": [],
   "source": []
  }
 ],
 "metadata": {
  "kernelspec": {
   "display_name": "env",
   "language": "python",
   "name": "python3"
  },
  "language_info": {
   "codemirror_mode": {
    "name": "ipython",
    "version": 3
   },
   "file_extension": ".py",
   "mimetype": "text/x-python",
   "name": "python",
   "nbconvert_exporter": "python",
   "pygments_lexer": "ipython3",
   "version": "3.11.7"
  }
 },
 "nbformat": 4,
 "nbformat_minor": 5
}
